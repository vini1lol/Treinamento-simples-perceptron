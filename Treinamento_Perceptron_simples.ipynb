{
  "nbformat": 4,
  "nbformat_minor": 0,
  "metadata": {
    "colab": {
      "name": "Treinamento Perceptron simples.ipynb",
      "provenance": [],
      "include_colab_link": true
    },
    "kernelspec": {
      "name": "python3",
      "display_name": "Python 3"
    }
  },
  "cells": [
    {
      "cell_type": "markdown",
      "metadata": {
        "id": "view-in-github",
        "colab_type": "text"
      },
      "source": [
        "<a href=\"https://colab.research.google.com/github/vini1lol/Treinamento-simples-perceptron/blob/master/Treinamento_Perceptron_simples.ipynb\" target=\"_parent\"><img src=\"https://colab.research.google.com/assets/colab-badge.svg\" alt=\"Open In Colab\"/></a>"
      ]
    },
    {
      "cell_type": "markdown",
      "metadata": {
        "id": "OEgSayQNBuaZ"
      },
      "source": [
        "# Perceptron \n",
        "\n",
        "Exercício simples para treinar um perceptron \n",
        "\n",
        "## Base \n",
        "Rede do tipo Perceptron formada por um neurônio com três terminais de entrada, utilizando pesos iniciais w0 = 0.7, w1 = -0.4 e w2 = 0.2, limiar θ = 0.5 e uma taxa de aprendizado = 0.5."
      ]
    },
    {
      "cell_type": "code",
      "metadata": {
        "id": "1Ido53gjUaie"
      },
      "source": [
        "# Dados iniciais\n",
        "import numpy as np \n",
        "# Base de dados\n",
        "# Classe -1  \n",
        "A = np.array( [0, 1, 0] ) \n",
        "# Classe 1 \n",
        "B = np.array( [1, 1, 1] ) \n",
        "# Pesos iniciais \n",
        "Pesos = np.array( [0.7, -0.4, 0.2] ) \n",
        "# Taxa de aprendizagem \n",
        "eta = 0.5 \n",
        "# Viés \n",
        "bias = 0.5  "
      ],
      "execution_count": 8,
      "outputs": []
    },
    {
      "cell_type": "code",
      "metadata": {
        "id": "t4fKfn8lU7Ja"
      },
      "source": [
        "# Função para a soma ponderada \n",
        "# m = x0*w0 +  x1*w1 + x2*w2+ x3*w3\n",
        "# u = m -1*θ\n",
        "def somaPonderada(X,W):\n",
        "  bias = 0.5 \n",
        "  m = np.multiply(X,W)\n",
        "  u = np.sum(m) -1*bias\n",
        "  return u "
      ],
      "execution_count": 9,
      "outputs": []
    },
    {
      "cell_type": "code",
      "metadata": {
        "id": "w7WOi5KzXkgd"
      },
      "source": [
        "# Função de ativação \n",
        "# Função Degrau \n",
        "def funcaoAtivacao(u):\n",
        "  if u >= 0:\n",
        "    return 1\n",
        "  else:\n",
        "    return -1"
      ],
      "execution_count": 10,
      "outputs": []
    },
    {
      "cell_type": "code",
      "metadata": {
        "id": "Lh67wy0zbO2-"
      },
      "source": [
        "# Função de saída \n",
        "def saida(X,W):\n",
        "  u = somaPonderada(X,W)\n",
        "  return funcaoAtivacao(u) \n"
      ],
      "execution_count": 11,
      "outputs": []
    },
    {
      "cell_type": "code",
      "metadata": {
        "id": "6iWXanLKX_On"
      },
      "source": [
        "# Função para ajustes dos pesos\n",
        "# Parte cententral do processo de aprendizagem \n",
        "# novo wi  →  wi = wi +  η xi (d - y ) \n",
        "def ajustaPesos(eta,W,X,bias,d,y):\n",
        "  e = d - y \n",
        "  novoW = W + eta*X*e\n",
        "  novoB = bias + eta*(-1)*e \n",
        "  return novoW, novoB  \n"
      ],
      "execution_count": 12,
      "outputs": []
    },
    {
      "cell_type": "markdown",
      "metadata": {
        "id": "qA-B_GxjapSI"
      },
      "source": [
        "# Treinamento \n",
        "* Realizado manualmente para ilustrar o processo \n",
        "* Aprsenta uma entrada e calcula a saída de maneira iterativa "
      ]
    },
    {
      "cell_type": "markdown",
      "metadata": {
        "id": "aXMmJejqd6RZ"
      },
      "source": [
        "## Iteração 1"
      ]
    },
    {
      "cell_type": "code",
      "metadata": {
        "id": "Ly-ULZCTaYSu",
        "colab": {
          "base_uri": "https://localhost:8080/"
        },
        "outputId": "0bc8c093-ddde-40fa-9154-2f0cfcfd0af8"
      },
      "source": [
        "# Entrada 010 saída -1 \n",
        "d = -1 \n",
        "y = saida(A,Pesos) \n",
        "print(y)\n",
        "# Ajuste dos pesos \n",
        "Pesos,bias = ajustaPesos(eta,Pesos,A,bias,d,y) \n",
        "print(Pesos)\n",
        "print(bias)  \n",
        "\n",
        "# Entrada 111 saída +1\n",
        "d = 1 \n",
        "y = saida(B,Pesos) \n",
        "print(y)\n",
        "# Ajuste dos pesos \n",
        "Pesos,bias = ajustaPesos(eta,Pesos,B,bias,d,y) \n",
        "print(Pesos)\n",
        "print(bias)"
      ],
      "execution_count": 13,
      "outputs": [
        {
          "output_type": "stream",
          "text": [
            "-1\n",
            "[ 0.7 -0.4  0.2]\n",
            "0.5\n",
            "-1\n",
            "[1.7 0.6 1.2]\n",
            "-0.5\n"
          ],
          "name": "stdout"
        }
      ]
    },
    {
      "cell_type": "markdown",
      "metadata": {
        "id": "iFIJNW0cdzVl"
      },
      "source": [
        "## Iteração 2"
      ]
    },
    {
      "cell_type": "code",
      "metadata": {
        "id": "EKpFRtmwdxD_",
        "colab": {
          "base_uri": "https://localhost:8080/"
        },
        "outputId": "5760a136-d182-42f8-90cd-13f8f9e497e2"
      },
      "source": [
        "# Entrada 010 saída -1 \n",
        "d = -1 \n",
        "y = saida(A,Pesos) \n",
        "print(y)\n",
        "# Ajuste dos pesos \n",
        "Pesos,bias = ajustaPesos(eta,Pesos,A,bias,d,y) \n",
        "print(Pesos)\n",
        "print(bias)  \n",
        "\n",
        "# Entrada 111 saída +1\n",
        "d = 1 \n",
        "y = saida(B,Pesos) \n",
        "print(y)\n",
        "# Ajuste dos pesos \n",
        "Pesos,bias = ajustaPesos(eta,Pesos,B,bias,d,y) \n",
        "print(Pesos)\n",
        "print(bias) "
      ],
      "execution_count": 14,
      "outputs": [
        {
          "output_type": "stream",
          "text": [
            "1\n",
            "[ 1.7 -0.4  1.2]\n",
            "0.5\n",
            "1\n",
            "[ 1.7 -0.4  1.2]\n",
            "0.5\n"
          ],
          "name": "stdout"
        }
      ]
    },
    {
      "cell_type": "markdown",
      "metadata": {
        "id": "t8kbz3yUVwty"
      },
      "source": [
        "## Iteração 3"
      ]
    },
    {
      "cell_type": "code",
      "metadata": {
        "colab": {
          "base_uri": "https://localhost:8080/"
        },
        "id": "BDJhnZHNVw9E",
        "outputId": "81a4c097-fa4e-4ba4-aeb1-ec1e8c04a94e"
      },
      "source": [
        "# Entrada 010 saída -1 \r\n",
        "d = -1 \r\n",
        "y = saida(A,Pesos) \r\n",
        "print(y)\r\n",
        "# Ajuste dos pesos \r\n",
        "Pesos,bias = ajustaPesos(eta,Pesos,A,bias,d,y) \r\n",
        "print(Pesos)\r\n",
        "print(bias)  \r\n",
        "\r\n",
        "# Entrada 111 saída +1\r\n",
        "d = 1 \r\n",
        "y = saida(B,Pesos) \r\n",
        "print(y)\r\n",
        "# Ajuste dos pesos \r\n",
        "Pesos,bias = ajustaPesos(eta,Pesos,B,bias,d,y) \r\n",
        "print(Pesos)\r\n",
        "print(bias) "
      ],
      "execution_count": 17,
      "outputs": [
        {
          "output_type": "stream",
          "text": [
            "-1\n",
            "[ 1.7 -0.4  1.2]\n",
            "0.5\n",
            "1\n",
            "[ 1.7 -0.4  1.2]\n",
            "0.5\n"
          ],
          "name": "stdout"
        }
      ]
    },
    {
      "cell_type": "markdown",
      "metadata": {
        "id": "3JF0Tv1Qe2ig"
      },
      "source": [
        "# Teste\n",
        "* A que classe pertencem os padrões 110, 000, 100 e 011"
      ]
    },
    {
      "cell_type": "code",
      "metadata": {
        "id": "ZymsxG1XXbsH",
        "colab": {
          "base_uri": "https://localhost:8080/"
        },
        "outputId": "b703c192-bc47-4f43-d577-877d4a1e0c05"
      },
      "source": [
        "# Padrão 110\n",
        "T = np.array([1, 1, 0]) \n",
        "print(\"Saida para \",T,\" é \", saida(T,Pesos))"
      ],
      "execution_count": 20,
      "outputs": [
        {
          "output_type": "stream",
          "text": [
            "Saida para  [1 1 0]  é  1\n"
          ],
          "name": "stdout"
        }
      ]
    },
    {
      "cell_type": "code",
      "metadata": {
        "id": "U_DhNESmfY0a",
        "colab": {
          "base_uri": "https://localhost:8080/"
        },
        "outputId": "eba87626-0486-43a3-8b49-00e2f0dcef45"
      },
      "source": [
        "# Padrão 000 \n",
        "T = np.array([0, 0, 0]) \n",
        "print(\"Saida para \",T,\" é \", saida(T,Pesos))"
      ],
      "execution_count": 21,
      "outputs": [
        {
          "output_type": "stream",
          "text": [
            "Saida para  [0 0 0]  é  -1\n"
          ],
          "name": "stdout"
        }
      ]
    },
    {
      "cell_type": "code",
      "metadata": {
        "colab": {
          "base_uri": "https://localhost:8080/"
        },
        "id": "EdmlwYaGWIjM",
        "outputId": "74430ef1-ca51-4bbc-dfa6-e03e54725d7f"
      },
      "source": [
        "# Padrão 100 \r\n",
        "T = np.array([1, 0, 0]) \r\n",
        "print(\"Saida para \",T,\" é \", saida(T,Pesos))"
      ],
      "execution_count": 23,
      "outputs": [
        {
          "output_type": "stream",
          "text": [
            "Saida para  [1 0 0]  é  1\n"
          ],
          "name": "stdout"
        }
      ]
    },
    {
      "cell_type": "code",
      "metadata": {
        "colab": {
          "base_uri": "https://localhost:8080/"
        },
        "id": "hGl2j0G1WdcQ",
        "outputId": "5ce72566-2e76-4af4-aa06-2801deea284a"
      },
      "source": [
        "# Padrão 011\r\n",
        "T = np.array([0, 1, 1]) \r\n",
        "print(\"Saida para \",T,\" é \", saida(T,Pesos))"
      ],
      "execution_count": 24,
      "outputs": [
        {
          "output_type": "stream",
          "text": [
            "Saida para  [0 1 1]  é  1\n"
          ],
          "name": "stdout"
        }
      ]
    }
  ]
}